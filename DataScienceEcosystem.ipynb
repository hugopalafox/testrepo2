{
 "cells": [
  {
   "cell_type": "markdown",
   "id": "fe1c2dc9-76f5-4c39-afa4-372d99ddda04",
   "metadata": {},
   "source": [
    "#Data science tools"
   ]
  },
  {
   "cell_type": "markdown",
   "id": "f8d02d6e-c957-4b2e-9460-c28eed0b190e",
   "metadata": {},
   "source": [
    "In this notebook, Data Science Tools and Ecosystem are summarized.\n"
   ]
  },
  {
   "cell_type": "markdown",
   "id": "ec57765b-7fa2-4a09-bee8-0f7eb77de7a9",
   "metadata": {},
   "source": [
    "**Objectives:**  \n",
    "Popular languages for Data Science.\n",
    "- Python\n",
    "- R\n",
    "- SQL\n",
    "- Scala"
   ]
  },
  {
   "cell_type": "markdown",
   "id": "6c5ccca0-287e-4cb6-bc4b-60bed25526ad",
   "metadata": {},
   "source": [
    "Some of the popular languages that Data Scientists use are:\n",
    "- Python\n",
    "- R\n",
    "- SQL\n",
    "- Scala"
   ]
  },
  {
   "cell_type": "markdown",
   "id": "1c42266c-bcb3-4822-b393-cc7b1c5f42cf",
   "metadata": {},
   "source": [
    "Some of the commonly used libraries used by Data Scientists include: \n",
    "- ggplot\n",
    "- numpy\n",
    "- pandas\n"
   ]
  },
  {
   "cell_type": "markdown",
   "id": "18a2c48b-c73e-4de4-b618-53e9bc1b4b81",
   "metadata": {},
   "source": [
    "# Data science tools\n",
    "\n",
    "| Data science tools |\n",
    "| ----------------- | \n",
    "| Jupyter Notebook | \n",
    "| Visual Studio Code | \n",
    "| PyCharm |"
   ]
  },
  {
   "cell_type": "markdown",
   "id": "0bcc1e1a-9a2a-4b7e-a4ff-4212d29e0247",
   "metadata": {},
   "source": [
    "### Below are a few examples of evaluating arithmetic expressions in Python.\n"
   ]
  },
  {
   "cell_type": "code",
   "execution_count": 3,
   "id": "7e536cb1-2887-4d72-890a-a220c8bb30a3",
   "metadata": {},
   "outputs": [
    {
     "data": {
      "text/plain": [
       "17"
      ]
     },
     "execution_count": 3,
     "metadata": {},
     "output_type": "execute_result"
    }
   ],
   "source": [
    "#This a simple arithmetic expression to multiply then add integers.\n",
    "(3*4)+5"
   ]
  },
  {
   "cell_type": "code",
   "execution_count": 2,
   "id": "3d4c2652-1c80-4ba0-a31b-4452e1ad960e",
   "metadata": {},
   "outputs": [
    {
     "data": {
      "text/plain": [
       "3.3333333333333335"
      ]
     },
     "execution_count": 2,
     "metadata": {},
     "output_type": "execute_result"
    }
   ],
   "source": [
    "# This will convert 200 minutes to hours by diving by 60.\n",
    "200/60\n"
   ]
  },
  {
   "cell_type": "markdown",
   "id": "b130e4d2-81c9-47db-bce7-921d0933cf71",
   "metadata": {},
   "source": [
    "## Author\n",
    "Hugo Palafox Barcenas"
   ]
  }
 ],
 "metadata": {
  "kernelspec": {
   "display_name": "Python 3 (ipykernel)",
   "language": "python",
   "name": "python3"
  },
  "language_info": {
   "codemirror_mode": {
    "name": "ipython",
    "version": 3
   },
   "file_extension": ".py",
   "mimetype": "text/x-python",
   "name": "python",
   "nbconvert_exporter": "python",
   "pygments_lexer": "ipython3",
   "version": "3.12.8"
  }
 },
 "nbformat": 4,
 "nbformat_minor": 5
}
